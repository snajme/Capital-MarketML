{
  "nbformat": 4,
  "nbformat_minor": 0,
  "metadata": {
    "colab": {
      "provenance": [],
      "authorship_tag": "ABX9TyO7X/DuDNweSaTYhk4f0qWq",
      "include_colab_link": true
    },
    "kernelspec": {
      "name": "python3",
      "display_name": "Python 3"
    },
    "language_info": {
      "name": "python"
    }
  },
  "cells": [
    {
      "cell_type": "markdown",
      "metadata": {
        "id": "view-in-github",
        "colab_type": "text"
      },
      "source": [
        "<a href=\"https://colab.research.google.com/github/snajme/FinTechML/blob/main/NominalandRealFedFundsRateAnalysis.ipynb\" target=\"_parent\"><img src=\"https://colab.research.google.com/assets/colab-badge.svg\" alt=\"Open In Colab\"/></a>"
      ]
    },
    {
      "cell_type": "code",
      "execution_count": 4,
      "metadata": {
        "id": "0MqFCf1aFJIO"
      },
      "outputs": [],
      "source": [
        "import pandas as pd\n",
        "import numpy as np\n",
        "from datetime import datetime\n",
        "import matplotlib.pyplot as plt\n",
        "from matplotlib.ticker import PercentFormatter\n",
        "\n",
        "from sklearn.model_selection import StratifiedKFold\n",
        "from sklearn.preprocessing import StandardScaler, FunctionTransformer, PolynomialFeatures\n",
        "from sklearn.metrics import roc_auc_score, roc_curve\n",
        "from sklearn.pipeline import make_pipeline\n",
        "from sklearn.compose import ColumnTransformer\n",
        "from sklearn.neighbors import KNeighborsClassifier\n",
        "from sklearn.linear_model import LogisticRegression, SGDClassifier\n",
        "from sklearn.svm import LinearSVC\n",
        "from sklearn.kernel_approximation import Nystroem\n",
        "from sklearn.ensemble import ExtraTreesClassifier, HistGradientBoostingClassifier, VotingClassifier\n",
        "\n",
        "np.set_printoptions(linewidth=195, edgeitems=5)\n"
      ]
    },
    {
      "cell_type": "markdown",
      "source": [
        "- Date\n",
        "- Consumer Price Index for All Urban Consumers\n",
        "- Difference\n",
        "- Real Fed Funds"
      ],
      "metadata": {
        "id": "3bJPMA1nTpU8"
      }
    },
    {
      "cell_type": "markdown",
      "source": [
        "## Nominal vs. Real Interest Rate: What's the Difference?\n",
        "### Nominal Interest Rate\n",
        "### Real Interest Rate\n",
        "$$Real Interest Rate = Nominal Interest Rate - Projected Rate of Inflation$$"
      ],
      "metadata": {
        "id": "lire7zE9VBNK"
      }
    },
    {
      "cell_type": "code",
      "source": [
        "data = pd.read_csv('Nominal and Real Fed Funds Rate.csv')\n",
        "data_1 = data.dropna()\n",
        "\n",
        "data_1"
      ],
      "metadata": {
        "colab": {
          "base_uri": "https://localhost:8080/",
          "height": 424
        },
        "id": "U2UhVVlkjyx6",
        "outputId": "5c24309f-f195-4e61-a3e5-013ef94ecc24"
      },
      "execution_count": 5,
      "outputs": [
        {
          "output_type": "execute_result",
          "data": {
            "text/plain": [
              "           DATE   DFF  CPIAUCSL  Real Fed Funds  USRECM\n",
              "1    01/07/1954  0.80   0.26129         0.53871     1.0\n",
              "2    01/08/1954  1.22   0.00000         1.22000     1.0\n",
              "3    01/09/1954  1.07  -0.29751         1.36751     1.0\n",
              "4    01/10/1954  0.85  -0.85343         1.70343     1.0\n",
              "5    01/11/1954  0.83  -0.26071         1.09071     1.0\n",
              "..          ...   ...       ...             ...     ...\n",
              "668  01/02/2010  0.13   2.15134        -2.02134     1.0\n",
              "669  01/03/2010  0.16   2.28617        -2.12617     1.0\n",
              "670  01/04/2010  0.20   2.20677        -2.00677     1.0\n",
              "671  01/05/2010  0.20   2.00355        -1.80355     1.0\n",
              "672  01/06/2010  0.18   1.12156        -0.94156     1.0\n",
              "\n",
              "[121 rows x 5 columns]"
            ],
            "text/html": [
              "\n",
              "  <div id=\"df-6f493854-33e3-42a3-87e7-c7a7d94f9529\" class=\"colab-df-container\">\n",
              "    <div>\n",
              "<style scoped>\n",
              "    .dataframe tbody tr th:only-of-type {\n",
              "        vertical-align: middle;\n",
              "    }\n",
              "\n",
              "    .dataframe tbody tr th {\n",
              "        vertical-align: top;\n",
              "    }\n",
              "\n",
              "    .dataframe thead th {\n",
              "        text-align: right;\n",
              "    }\n",
              "</style>\n",
              "<table border=\"1\" class=\"dataframe\">\n",
              "  <thead>\n",
              "    <tr style=\"text-align: right;\">\n",
              "      <th></th>\n",
              "      <th>DATE</th>\n",
              "      <th>DFF</th>\n",
              "      <th>CPIAUCSL</th>\n",
              "      <th>Real Fed Funds</th>\n",
              "      <th>USRECM</th>\n",
              "    </tr>\n",
              "  </thead>\n",
              "  <tbody>\n",
              "    <tr>\n",
              "      <th>1</th>\n",
              "      <td>01/07/1954</td>\n",
              "      <td>0.80</td>\n",
              "      <td>0.26129</td>\n",
              "      <td>0.53871</td>\n",
              "      <td>1.0</td>\n",
              "    </tr>\n",
              "    <tr>\n",
              "      <th>2</th>\n",
              "      <td>01/08/1954</td>\n",
              "      <td>1.22</td>\n",
              "      <td>0.00000</td>\n",
              "      <td>1.22000</td>\n",
              "      <td>1.0</td>\n",
              "    </tr>\n",
              "    <tr>\n",
              "      <th>3</th>\n",
              "      <td>01/09/1954</td>\n",
              "      <td>1.07</td>\n",
              "      <td>-0.29751</td>\n",
              "      <td>1.36751</td>\n",
              "      <td>1.0</td>\n",
              "    </tr>\n",
              "    <tr>\n",
              "      <th>4</th>\n",
              "      <td>01/10/1954</td>\n",
              "      <td>0.85</td>\n",
              "      <td>-0.85343</td>\n",
              "      <td>1.70343</td>\n",
              "      <td>1.0</td>\n",
              "    </tr>\n",
              "    <tr>\n",
              "      <th>5</th>\n",
              "      <td>01/11/1954</td>\n",
              "      <td>0.83</td>\n",
              "      <td>-0.26071</td>\n",
              "      <td>1.09071</td>\n",
              "      <td>1.0</td>\n",
              "    </tr>\n",
              "    <tr>\n",
              "      <th>...</th>\n",
              "      <td>...</td>\n",
              "      <td>...</td>\n",
              "      <td>...</td>\n",
              "      <td>...</td>\n",
              "      <td>...</td>\n",
              "    </tr>\n",
              "    <tr>\n",
              "      <th>668</th>\n",
              "      <td>01/02/2010</td>\n",
              "      <td>0.13</td>\n",
              "      <td>2.15134</td>\n",
              "      <td>-2.02134</td>\n",
              "      <td>1.0</td>\n",
              "    </tr>\n",
              "    <tr>\n",
              "      <th>669</th>\n",
              "      <td>01/03/2010</td>\n",
              "      <td>0.16</td>\n",
              "      <td>2.28617</td>\n",
              "      <td>-2.12617</td>\n",
              "      <td>1.0</td>\n",
              "    </tr>\n",
              "    <tr>\n",
              "      <th>670</th>\n",
              "      <td>01/04/2010</td>\n",
              "      <td>0.20</td>\n",
              "      <td>2.20677</td>\n",
              "      <td>-2.00677</td>\n",
              "      <td>1.0</td>\n",
              "    </tr>\n",
              "    <tr>\n",
              "      <th>671</th>\n",
              "      <td>01/05/2010</td>\n",
              "      <td>0.20</td>\n",
              "      <td>2.00355</td>\n",
              "      <td>-1.80355</td>\n",
              "      <td>1.0</td>\n",
              "    </tr>\n",
              "    <tr>\n",
              "      <th>672</th>\n",
              "      <td>01/06/2010</td>\n",
              "      <td>0.18</td>\n",
              "      <td>1.12156</td>\n",
              "      <td>-0.94156</td>\n",
              "      <td>1.0</td>\n",
              "    </tr>\n",
              "  </tbody>\n",
              "</table>\n",
              "<p>121 rows × 5 columns</p>\n",
              "</div>\n",
              "    <div class=\"colab-df-buttons\">\n",
              "\n",
              "  <div class=\"colab-df-container\">\n",
              "    <button class=\"colab-df-convert\" onclick=\"convertToInteractive('df-6f493854-33e3-42a3-87e7-c7a7d94f9529')\"\n",
              "            title=\"Convert this dataframe to an interactive table.\"\n",
              "            style=\"display:none;\">\n",
              "\n",
              "  <svg xmlns=\"http://www.w3.org/2000/svg\" height=\"24px\" viewBox=\"0 -960 960 960\">\n",
              "    <path d=\"M120-120v-720h720v720H120Zm60-500h600v-160H180v160Zm220 220h160v-160H400v160Zm0 220h160v-160H400v160ZM180-400h160v-160H180v160Zm440 0h160v-160H620v160ZM180-180h160v-160H180v160Zm440 0h160v-160H620v160Z\"/>\n",
              "  </svg>\n",
              "    </button>\n",
              "\n",
              "  <style>\n",
              "    .colab-df-container {\n",
              "      display:flex;\n",
              "      gap: 12px;\n",
              "    }\n",
              "\n",
              "    .colab-df-convert {\n",
              "      background-color: #E8F0FE;\n",
              "      border: none;\n",
              "      border-radius: 50%;\n",
              "      cursor: pointer;\n",
              "      display: none;\n",
              "      fill: #1967D2;\n",
              "      height: 32px;\n",
              "      padding: 0 0 0 0;\n",
              "      width: 32px;\n",
              "    }\n",
              "\n",
              "    .colab-df-convert:hover {\n",
              "      background-color: #E2EBFA;\n",
              "      box-shadow: 0px 1px 2px rgba(60, 64, 67, 0.3), 0px 1px 3px 1px rgba(60, 64, 67, 0.15);\n",
              "      fill: #174EA6;\n",
              "    }\n",
              "\n",
              "    .colab-df-buttons div {\n",
              "      margin-bottom: 4px;\n",
              "    }\n",
              "\n",
              "    [theme=dark] .colab-df-convert {\n",
              "      background-color: #3B4455;\n",
              "      fill: #D2E3FC;\n",
              "    }\n",
              "\n",
              "    [theme=dark] .colab-df-convert:hover {\n",
              "      background-color: #434B5C;\n",
              "      box-shadow: 0px 1px 3px 1px rgba(0, 0, 0, 0.15);\n",
              "      filter: drop-shadow(0px 1px 2px rgba(0, 0, 0, 0.3));\n",
              "      fill: #FFFFFF;\n",
              "    }\n",
              "  </style>\n",
              "\n",
              "    <script>\n",
              "      const buttonEl =\n",
              "        document.querySelector('#df-6f493854-33e3-42a3-87e7-c7a7d94f9529 button.colab-df-convert');\n",
              "      buttonEl.style.display =\n",
              "        google.colab.kernel.accessAllowed ? 'block' : 'none';\n",
              "\n",
              "      async function convertToInteractive(key) {\n",
              "        const element = document.querySelector('#df-6f493854-33e3-42a3-87e7-c7a7d94f9529');\n",
              "        const dataTable =\n",
              "          await google.colab.kernel.invokeFunction('convertToInteractive',\n",
              "                                                    [key], {});\n",
              "        if (!dataTable) return;\n",
              "\n",
              "        const docLinkHtml = 'Like what you see? Visit the ' +\n",
              "          '<a target=\"_blank\" href=https://colab.research.google.com/notebooks/data_table.ipynb>data table notebook</a>'\n",
              "          + ' to learn more about interactive tables.';\n",
              "        element.innerHTML = '';\n",
              "        dataTable['output_type'] = 'display_data';\n",
              "        await google.colab.output.renderOutput(dataTable, element);\n",
              "        const docLink = document.createElement('div');\n",
              "        docLink.innerHTML = docLinkHtml;\n",
              "        element.appendChild(docLink);\n",
              "      }\n",
              "    </script>\n",
              "  </div>\n",
              "\n",
              "\n",
              "<div id=\"df-0ee0f2bd-099f-454c-8153-f5f3eee2621c\">\n",
              "  <button class=\"colab-df-quickchart\" onclick=\"quickchart('df-0ee0f2bd-099f-454c-8153-f5f3eee2621c')\"\n",
              "            title=\"Suggest charts\"\n",
              "            style=\"display:none;\">\n",
              "\n",
              "<svg xmlns=\"http://www.w3.org/2000/svg\" height=\"24px\"viewBox=\"0 0 24 24\"\n",
              "     width=\"24px\">\n",
              "    <g>\n",
              "        <path d=\"M19 3H5c-1.1 0-2 .9-2 2v14c0 1.1.9 2 2 2h14c1.1 0 2-.9 2-2V5c0-1.1-.9-2-2-2zM9 17H7v-7h2v7zm4 0h-2V7h2v10zm4 0h-2v-4h2v4z\"/>\n",
              "    </g>\n",
              "</svg>\n",
              "  </button>\n",
              "\n",
              "<style>\n",
              "  .colab-df-quickchart {\n",
              "      --bg-color: #E8F0FE;\n",
              "      --fill-color: #1967D2;\n",
              "      --hover-bg-color: #E2EBFA;\n",
              "      --hover-fill-color: #174EA6;\n",
              "      --disabled-fill-color: #AAA;\n",
              "      --disabled-bg-color: #DDD;\n",
              "  }\n",
              "\n",
              "  [theme=dark] .colab-df-quickchart {\n",
              "      --bg-color: #3B4455;\n",
              "      --fill-color: #D2E3FC;\n",
              "      --hover-bg-color: #434B5C;\n",
              "      --hover-fill-color: #FFFFFF;\n",
              "      --disabled-bg-color: #3B4455;\n",
              "      --disabled-fill-color: #666;\n",
              "  }\n",
              "\n",
              "  .colab-df-quickchart {\n",
              "    background-color: var(--bg-color);\n",
              "    border: none;\n",
              "    border-radius: 50%;\n",
              "    cursor: pointer;\n",
              "    display: none;\n",
              "    fill: var(--fill-color);\n",
              "    height: 32px;\n",
              "    padding: 0;\n",
              "    width: 32px;\n",
              "  }\n",
              "\n",
              "  .colab-df-quickchart:hover {\n",
              "    background-color: var(--hover-bg-color);\n",
              "    box-shadow: 0 1px 2px rgba(60, 64, 67, 0.3), 0 1px 3px 1px rgba(60, 64, 67, 0.15);\n",
              "    fill: var(--button-hover-fill-color);\n",
              "  }\n",
              "\n",
              "  .colab-df-quickchart-complete:disabled,\n",
              "  .colab-df-quickchart-complete:disabled:hover {\n",
              "    background-color: var(--disabled-bg-color);\n",
              "    fill: var(--disabled-fill-color);\n",
              "    box-shadow: none;\n",
              "  }\n",
              "\n",
              "  .colab-df-spinner {\n",
              "    border: 2px solid var(--fill-color);\n",
              "    border-color: transparent;\n",
              "    border-bottom-color: var(--fill-color);\n",
              "    animation:\n",
              "      spin 1s steps(1) infinite;\n",
              "  }\n",
              "\n",
              "  @keyframes spin {\n",
              "    0% {\n",
              "      border-color: transparent;\n",
              "      border-bottom-color: var(--fill-color);\n",
              "      border-left-color: var(--fill-color);\n",
              "    }\n",
              "    20% {\n",
              "      border-color: transparent;\n",
              "      border-left-color: var(--fill-color);\n",
              "      border-top-color: var(--fill-color);\n",
              "    }\n",
              "    30% {\n",
              "      border-color: transparent;\n",
              "      border-left-color: var(--fill-color);\n",
              "      border-top-color: var(--fill-color);\n",
              "      border-right-color: var(--fill-color);\n",
              "    }\n",
              "    40% {\n",
              "      border-color: transparent;\n",
              "      border-right-color: var(--fill-color);\n",
              "      border-top-color: var(--fill-color);\n",
              "    }\n",
              "    60% {\n",
              "      border-color: transparent;\n",
              "      border-right-color: var(--fill-color);\n",
              "    }\n",
              "    80% {\n",
              "      border-color: transparent;\n",
              "      border-right-color: var(--fill-color);\n",
              "      border-bottom-color: var(--fill-color);\n",
              "    }\n",
              "    90% {\n",
              "      border-color: transparent;\n",
              "      border-bottom-color: var(--fill-color);\n",
              "    }\n",
              "  }\n",
              "</style>\n",
              "\n",
              "  <script>\n",
              "    async function quickchart(key) {\n",
              "      const quickchartButtonEl =\n",
              "        document.querySelector('#' + key + ' button');\n",
              "      quickchartButtonEl.disabled = true;  // To prevent multiple clicks.\n",
              "      quickchartButtonEl.classList.add('colab-df-spinner');\n",
              "      try {\n",
              "        const charts = await google.colab.kernel.invokeFunction(\n",
              "            'suggestCharts', [key], {});\n",
              "      } catch (error) {\n",
              "        console.error('Error during call to suggestCharts:', error);\n",
              "      }\n",
              "      quickchartButtonEl.classList.remove('colab-df-spinner');\n",
              "      quickchartButtonEl.classList.add('colab-df-quickchart-complete');\n",
              "    }\n",
              "    (() => {\n",
              "      let quickchartButtonEl =\n",
              "        document.querySelector('#df-0ee0f2bd-099f-454c-8153-f5f3eee2621c button');\n",
              "      quickchartButtonEl.style.display =\n",
              "        google.colab.kernel.accessAllowed ? 'block' : 'none';\n",
              "    })();\n",
              "  </script>\n",
              "</div>\n",
              "    </div>\n",
              "  </div>\n"
            ],
            "application/vnd.google.colaboratory.intrinsic+json": {
              "type": "dataframe",
              "variable_name": "data_1",
              "repr_error": "'str' object has no attribute 'empty'"
            }
          },
          "metadata": {},
          "execution_count": 5
        }
      ]
    },
    {
      "cell_type": "markdown",
      "source": [
        "### Creating Synthetic Data"
      ],
      "metadata": {
        "id": "5C5072HoGwCY"
      }
    },
    {
      "cell_type": "code",
      "source": [
        "\n",
        "%config IPCompleter.greedy = True\n",
        "from sklearn.model_selection import train_test_split\n",
        "n_samples, n_features = 124, 15\n",
        "np.random.seed(5)\n",
        "# synthetic data generation for  DATE, DFF, CPIAUCSL, Real Fed Funds, USRECM\n",
        "\n",
        "X = np.random.random_sample(n_samples)*2\n",
        "X = X.reshape((-1, 1))\n",
        "y = (np.random.random_sample(n_samples)*0.1).reshape((-1,1))\n",
        "\n",
        "\n",
        "X_train, X_test, y_train, y_test = train_test_split(X, y, test_size=0.33)\n",
        "\n",
        "x_i = np.linspace(-np.pi, np.pi, 200)\n",
        "x_i = x_i.reshape((-1, 1))\n",
        "y_i = np.sin(x_i)\n",
        "print('{} Training samples'.format(X_train.shape[0]))\n",
        "print('{} Testing samples'.format(X_test.shape[0]))\n"
      ],
      "metadata": {
        "id": "enaBppm8E1zm",
        "outputId": "2c9c2ef8-2ee5-41a9-a7a8-b91836e906b1",
        "colab": {
          "base_uri": "https://localhost:8080/"
        }
      },
      "execution_count": 8,
      "outputs": [
        {
          "output_type": "stream",
          "name": "stdout",
          "text": [
            "83 Training samples\n",
            "41 Testing samples\n"
          ]
        }
      ]
    },
    {
      "cell_type": "code",
      "source": [
        "scale_factor = 0.65\n",
        "plt.figure(figsize=(16*scale_factor, 10.667*scale_factor))\n",
        "plt.axis([-3.5, 3.5, -2.33, 2.33])\n",
        "plt.plot(x_i, y_i, c='green', label='Ground Truth: $y=sin(X)$')\n",
        "plt.scatter(X_train, y_train, c='red', label='Traning Samples')\n",
        "plt.legend(loc='upper left', fontsize=15)\n",
        "plt.plot()"
      ],
      "metadata": {
        "id": "yH9OeS0iQBoz",
        "outputId": "70550be5-1bc9-4cfc-fe16-d80cba4da228",
        "colab": {
          "base_uri": "https://localhost:8080/",
          "height": 611
        }
      },
      "execution_count": 9,
      "outputs": [
        {
          "output_type": "execute_result",
          "data": {
            "text/plain": [
              "[]"
            ]
          },
          "metadata": {},
          "execution_count": 9
        },
        {
          "output_type": "display_data",
          "data": {
            "text/plain": [
              "<Figure size 1040x693.355 with 1 Axes>"
            ],
            "image/png": "[encoded data removed]"
          },
          "metadata": {}
        }
      ]
    },
    {
      "cell_type": "markdown",
      "source": [
        "# Comparing the Two Dataset"
      ],
      "metadata": {
        "id": "fAUuRy1xG5eW"
      }
    },
    {
      "cell_type": "code",
      "source": [
        "_, (ax1, ax2, ax3) = plt.subplots(1, 3, figsize=(12, 4))\n",
        "ax1.scatter(data.DFF, data.CPIAUCSL, s=3, label='original')\n",
        "ax1.set_xlabel('L')\n",
        "ax1.set_ylabel('D')\n",
        "ax1.set_title('D = 1/L')\n",
        "ax1.legend()\n",
        "plt.tight_layout()\n",
        "plt.suptitle('Original vs. synthetic datasets', y=1.03)\n",
        "plt.show()"
      ],
      "metadata": {
        "id": "iQnwhTX6lbp5",
        "outputId": "c1951de6-449d-4361-a565-7030aed5756d",
        "colab": {
          "base_uri": "https://localhost:8080/",
          "height": 434
        }
      },
      "execution_count": null,
      "outputs": [
        {
          "output_type": "display_data",
          "data": {
            "text/plain": [
              "<Figure size 1200x400 with 3 Axes>"
            ],
            "image/png": "[encoded data removed]"
          },
          "metadata": {}
        }
      ]
    },
    {
      "cell_type": "markdown",
      "source": [
        "# Regularisation For the Syntatic Dataset"
      ],
      "metadata": {
        "id": "wjXyUTkdPdD1"
      }
    },
    {
      "cell_type": "code",
      "source": [],
      "metadata": {
        "id": "Gfb-_GXxPiBF"
      },
      "execution_count": null,
      "outputs": []
    },
    {
      "cell_type": "markdown",
      "source": [
        "# Regularisation For the Original Dataset"
      ],
      "metadata": {
        "id": "4hAtRb9vPkTI"
      }
    },
    {
      "cell_type": "code",
      "source": [],
      "metadata": {
        "id": "DlNJ_2qSPm4W"
      },
      "execution_count": null,
      "outputs": []
    },
    {
      "cell_type": "markdown",
      "source": [
        "### Machine Learning Piplines for the Models:\n",
        " - ExtraTreesClassifier,\n",
        " - HistGradientBoostingClassifier,\n",
        " - VotingClassifier, SGDClassifier, LinearSVC"
      ],
      "metadata": {
        "id": "yO23svLhq23g"
      }
    },
    {
      "cell_type": "code",
      "source": [],
      "metadata": {
        "id": "LHMYaoRwq9II"
      },
      "execution_count": null,
      "outputs": []
    }
  ]
}